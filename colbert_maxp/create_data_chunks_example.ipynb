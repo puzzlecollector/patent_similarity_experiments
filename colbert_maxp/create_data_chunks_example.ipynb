{
 "cells": [
  {
   "cell_type": "code",
   "execution_count": 22,
   "metadata": {},
   "outputs": [],
   "source": [
    "import numpy as np \n",
    "import pandas as pd \n",
    "import os\n",
    "from transformers import BertPreTrainedModel, BertModel, BertTokenizerFast, AdamW\n",
    "from tqdm import tqdm"
   ]
  },
  {
   "cell_type": "code",
   "execution_count": 3,
   "metadata": {},
   "outputs": [],
   "source": [
    "train = pd.read_csv(\"train_val_combined.tsv\", sep=\"\\t\") \n",
    "\n",
    "train = train.loc[:50,:]"
   ]
  },
  {
   "cell_type": "code",
   "execution_count": 4,
   "metadata": {},
   "outputs": [
    {
     "data": {
      "text/plain": [
       "(51, 3)"
      ]
     },
     "execution_count": 4,
     "metadata": {},
     "output_type": "execute_result"
    }
   ],
   "source": [
    "train.shape"
   ]
  },
  {
   "cell_type": "code",
   "execution_count": 7,
   "metadata": {},
   "outputs": [],
   "source": [
    "def split_text(s, overlap=20, chunk_size=180): \n",
    "    total = [] \n",
    "    partial = [] \n",
    "    if len(s.split()) // (chunk_size - overlap) > 0: \n",
    "        n = len(s.split()) // (chunk_size - overlap)  \n",
    "    else: \n",
    "        n = 1 \n",
    "    for w in range(n):  \n",
    "        if w == 0:  \n",
    "            partial = s.split()[:chunk_size] \n",
    "            total.append(\" \".join(partial)) \n",
    "        else: \n",
    "            partial = s.split()[w*(chunk_size - overlap):w*(chunk_size - overlap) + chunk_size] \n",
    "            total.append(\" \".join(partial)) \n",
    "    return total"
   ]
  },
  {
   "cell_type": "code",
   "execution_count": 14,
   "metadata": {},
   "outputs": [],
   "source": [
    "queries = train['queries'].values \n",
    "positives = train['positive'].values \n",
    "negatives = train['negative'].values"
   ]
  },
  {
   "cell_type": "code",
   "execution_count": 18,
   "metadata": {},
   "outputs": [],
   "source": [
    "text_file = open(\"original_text.txt\", \"w\") \n",
    "text = queries[10] \n",
    "text_file.write(text) \n",
    "text_file.close()"
   ]
  },
  {
   "cell_type": "code",
   "execution_count": 20,
   "metadata": {},
   "outputs": [],
   "source": [
    "text_file = open(\"after_sliding_window.txt\", \"w\") \n",
    "text = queries[10] \n",
    "splitted = split_text(text) \n",
    "\n",
    "for t in splitted: \n",
    "    text_file.write(t + \"\\n\\n\") \n",
    "\n",
    "text_file.close() "
   ]
  },
  {
   "cell_type": "code",
   "execution_count": 24,
   "metadata": {},
   "outputs": [
    {
     "name": "stderr",
     "output_type": "stream",
     "text": [
      "100%|██████████| 51/51 [00:00<00:00, 222.10it/s]\n"
     ]
    }
   ],
   "source": [
    "df_q, df_pos, df_neg = [], [], [] \n",
    "\n",
    "for i in tqdm(range(train.shape[0])): \n",
    "    q, pos, neg = queries[i], positives[i], negatives[i] \n",
    "    q_splits = split_text(q) \n",
    "    pos_splits = split_text(pos) \n",
    "    neg_splits = split_text(neg) \n",
    "    \n",
    "    # get all combinations \n",
    "    for j in range(len(q_splits)): \n",
    "        for k in range(len(pos_splits)): \n",
    "            for l in range(len(neg_splits)): \n",
    "                df_q.append(q_splits[j]) \n",
    "                df_pos.append(pos_splits[k]) \n",
    "                df_neg.append(neg_splits[l]) "
   ]
  },
  {
   "cell_type": "code",
   "execution_count": 26,
   "metadata": {},
   "outputs": [
    {
     "data": {
      "text/html": [
       "<div>\n",
       "<style scoped>\n",
       "    .dataframe tbody tr th:only-of-type {\n",
       "        vertical-align: middle;\n",
       "    }\n",
       "\n",
       "    .dataframe tbody tr th {\n",
       "        vertical-align: top;\n",
       "    }\n",
       "\n",
       "    .dataframe thead th {\n",
       "        text-align: right;\n",
       "    }\n",
       "</style>\n",
       "<table border=\"1\" class=\"dataframe\">\n",
       "  <thead>\n",
       "    <tr style=\"text-align: right;\">\n",
       "      <th></th>\n",
       "      <th>queries</th>\n",
       "      <th>positive</th>\n",
       "      <th>negative</th>\n",
       "    </tr>\n",
       "  </thead>\n",
       "  <tbody>\n",
       "    <tr>\n",
       "      <th>0</th>\n",
       "      <td>The invention using the modified hump contoure...</td>\n",
       "      <td>A fishing lure comprising an elongated body ha...</td>\n",
       "      <td>An integrated circuit comprising a ferroelectr...</td>\n",
       "    </tr>\n",
       "    <tr>\n",
       "      <th>1</th>\n",
       "      <td>The invention using the modified hump contoure...</td>\n",
       "      <td>A fishing lure comprising an elongated body ha...</td>\n",
       "      <td>oxide layer and the ferroelectric memory cell ...</td>\n",
       "    </tr>\n",
       "    <tr>\n",
       "      <th>2</th>\n",
       "      <td>The invention using the modified hump contoure...</td>\n",
       "      <td>A fishing lure comprising an elongated body ha...</td>\n",
       "      <td>and second oxide layers have different thickne...</td>\n",
       "    </tr>\n",
       "    <tr>\n",
       "      <th>3</th>\n",
       "      <td>The invention using the modified hump contoure...</td>\n",
       "      <td>A fishing lure comprising an elongated body ha...</td>\n",
       "      <td>wherein the at least one additive is provided ...</td>\n",
       "    </tr>\n",
       "    <tr>\n",
       "      <th>4</th>\n",
       "      <td>The invention using the modified hump contoure...</td>\n",
       "      <td>A fishing lure comprising an elongated body ha...</td>\n",
       "      <td>layer system comprising at least one bi layer ...</td>\n",
       "    </tr>\n",
       "  </tbody>\n",
       "</table>\n",
       "</div>"
      ],
      "text/plain": [
       "                                             queries  \\\n",
       "0  The invention using the modified hump contoure...   \n",
       "1  The invention using the modified hump contoure...   \n",
       "2  The invention using the modified hump contoure...   \n",
       "3  The invention using the modified hump contoure...   \n",
       "4  The invention using the modified hump contoure...   \n",
       "\n",
       "                                            positive  \\\n",
       "0  A fishing lure comprising an elongated body ha...   \n",
       "1  A fishing lure comprising an elongated body ha...   \n",
       "2  A fishing lure comprising an elongated body ha...   \n",
       "3  A fishing lure comprising an elongated body ha...   \n",
       "4  A fishing lure comprising an elongated body ha...   \n",
       "\n",
       "                                            negative  \n",
       "0  An integrated circuit comprising a ferroelectr...  \n",
       "1  oxide layer and the ferroelectric memory cell ...  \n",
       "2  and second oxide layers have different thickne...  \n",
       "3  wherein the at least one additive is provided ...  \n",
       "4  layer system comprising at least one bi layer ...  "
      ]
     },
     "execution_count": 26,
     "metadata": {},
     "output_type": "execute_result"
    }
   ],
   "source": [
    "df = pd.DataFrame(list(zip(df_q, df_pos, df_neg)),\n",
    "               columns =['queries', 'positive', 'negative'])\n",
    "\n",
    "\n",
    "df.head()"
   ]
  },
  {
   "cell_type": "code",
   "execution_count": 29,
   "metadata": {},
   "outputs": [],
   "source": [
    "df.to_excel('splitted_train_sample.xlsx', index=False)"
   ]
  },
  {
   "cell_type": "code",
   "execution_count": 30,
   "metadata": {},
   "outputs": [],
   "source": [
    "df.to_csv(\"splitted_train_sample.tsv\", index=False, sep='\\t')"
   ]
  },
  {
   "cell_type": "code",
   "execution_count": null,
   "metadata": {},
   "outputs": [],
   "source": []
  }
 ],
 "metadata": {
  "kernelspec": {
   "display_name": "Python 3",
   "language": "python",
   "name": "python3"
  },
  "language_info": {
   "codemirror_mode": {
    "name": "ipython",
    "version": 3
   },
   "file_extension": ".py",
   "mimetype": "text/x-python",
   "name": "python",
   "nbconvert_exporter": "python",
   "pygments_lexer": "ipython3",
   "version": "3.6.9"
  }
 },
 "nbformat": 4,
 "nbformat_minor": 4
}
