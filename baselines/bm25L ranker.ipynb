{
 "cells": [
  {
   "cell_type": "code",
   "execution_count": 21,
   "metadata": {},
   "outputs": [],
   "source": [
    "from rank_bm25 import BM25L\n",
    "import numpy as np \n",
    "import pandas as pd \n",
    "from tqdm import tqdm\n",
    "import re\n",
    "import time "
   ]
  },
  {
   "cell_type": "code",
   "execution_count": 4,
   "metadata": {},
   "outputs": [
    {
     "data": {
      "text/html": [
       "<div>\n",
       "<style scoped>\n",
       "    .dataframe tbody tr th:only-of-type {\n",
       "        vertical-align: middle;\n",
       "    }\n",
       "\n",
       "    .dataframe tbody tr th {\n",
       "        vertical-align: top;\n",
       "    }\n",
       "\n",
       "    .dataframe thead th {\n",
       "        text-align: right;\n",
       "    }\n",
       "</style>\n",
       "<table border=\"1\" class=\"dataframe\">\n",
       "  <thead>\n",
       "    <tr style=\"text-align: right;\">\n",
       "      <th></th>\n",
       "      <th>queries</th>\n",
       "      <th>positive</th>\n",
       "      <th>negative</th>\n",
       "    </tr>\n",
       "  </thead>\n",
       "  <tbody>\n",
       "    <tr>\n",
       "      <th>0</th>\n",
       "      <td>A system for charging or maintaining a batter...</td>\n",
       "      <td>A method for battery charger and diagnosis wi...</td>\n",
       "      <td>A ductile failure anchor for a concrete eleme...</td>\n",
       "    </tr>\n",
       "    <tr>\n",
       "      <th>1</th>\n",
       "      <td>A method for calculating a path delay in stat...</td>\n",
       "      <td>A non transitory computer readable medium car...</td>\n",
       "      <td>A distance evaluation method for evaluating d...</td>\n",
       "    </tr>\n",
       "    <tr>\n",
       "      <th>2</th>\n",
       "      <td>A preventive or therapeutic agent for diabete...</td>\n",
       "      <td>A method for measuring glutamyl transpeptidas...</td>\n",
       "      <td>A communication system comprising a plurality...</td>\n",
       "    </tr>\n",
       "    <tr>\n",
       "      <th>3</th>\n",
       "      <td>A semiconductor device comprising a first sem...</td>\n",
       "      <td>An integrated circuit comprising a first pitc...</td>\n",
       "      <td>canceled A lighting system comprising an opti...</td>\n",
       "    </tr>\n",
       "    <tr>\n",
       "      <th>4</th>\n",
       "      <td>A moveable barrier operator system comprising...</td>\n",
       "      <td>A movable barrier operator having automatic f...</td>\n",
       "      <td>A remote control system which comprises a rem...</td>\n",
       "    </tr>\n",
       "  </tbody>\n",
       "</table>\n",
       "</div>"
      ],
      "text/plain": [
       "                                             queries  \\\n",
       "0   A system for charging or maintaining a batter...   \n",
       "1   A method for calculating a path delay in stat...   \n",
       "2   A preventive or therapeutic agent for diabete...   \n",
       "3   A semiconductor device comprising a first sem...   \n",
       "4   A moveable barrier operator system comprising...   \n",
       "\n",
       "                                            positive  \\\n",
       "0   A method for battery charger and diagnosis wi...   \n",
       "1   A non transitory computer readable medium car...   \n",
       "2   A method for measuring glutamyl transpeptidas...   \n",
       "3   An integrated circuit comprising a first pitc...   \n",
       "4   A movable barrier operator having automatic f...   \n",
       "\n",
       "                                            negative  \n",
       "0   A ductile failure anchor for a concrete eleme...  \n",
       "1   A distance evaluation method for evaluating d...  \n",
       "2   A communication system comprising a plurality...  \n",
       "3   canceled A lighting system comprising an opti...  \n",
       "4   A remote control system which comprises a rem...  "
      ]
     },
     "execution_count": 4,
     "metadata": {},
     "output_type": "execute_result"
    }
   ],
   "source": [
    "test = pd.read_csv(\"test_df.tsv\", sep=\"\\t\")\n",
    "\n",
    "test.head()"
   ]
  },
  {
   "cell_type": "code",
   "execution_count": 10,
   "metadata": {},
   "outputs": [],
   "source": [
    "queries = test['queries'].values \n",
    "positives = test['positive'].values \n",
    "negatives = test['negative'].values \n",
    "\n",
    "corpus = np.concatenate([positives, negatives])"
   ]
  },
  {
   "cell_type": "markdown",
   "metadata": {},
   "source": [
    "# BM25L Ranking"
   ]
  },
  {
   "cell_type": "code",
   "execution_count": 13,
   "metadata": {},
   "outputs": [],
   "source": [
    "def simple_tok(sent): \n",
    "    cleaned = re.sub('[^A-Za-z]+', ' ', sent) \n",
    "    return cleaned.split(\" \") "
   ]
  },
  {
   "cell_type": "code",
   "execution_count": 17,
   "metadata": {},
   "outputs": [
    {
     "name": "stderr",
     "output_type": "stream",
     "text": [
      " 18%|█▊        | 14006/77886 [00:09<00:44, 1442.32it/s]\n",
      "  0%|          | 0/77886 [00:57<?, ?it/s], 1378.35it/s]\u001b[A\n",
      "100%|██████████| 77886/77886 [00:54<00:00, 1429.86it/s]\n"
     ]
    }
   ],
   "source": [
    "tok_corpus = [simple_tok(s) for s in tqdm(corpus, position=0, leave=True)] \n",
    "\n",
    "bm25 = BM25L(tok_corpus)"
   ]
  },
  {
   "cell_type": "code",
   "execution_count": 18,
   "metadata": {},
   "outputs": [],
   "source": [
    "query = queries[0]\n",
    "\n",
    "tokenized_query = simple_tok(query)\n",
    "\n",
    "scores = bm25.get_scores(query)"
   ]
  },
  {
   "cell_type": "code",
   "execution_count": 19,
   "metadata": {},
   "outputs": [
    {
     "name": "stdout",
     "output_type": "stream",
     "text": [
      "43\n"
     ]
    }
   ],
   "source": [
    "best_docs = sorted(range(len(scores)), key=lambda i: scores[i], reverse=True) \n",
    "\n",
    "for i, b in enumerate(best_docs):\n",
    "    if b == 0: \n",
    "        print(i+1)\n"
   ]
  },
  {
   "cell_type": "markdown",
   "metadata": {},
   "source": [
    "# Calculate MRR for the first 100 queries"
   ]
  },
  {
   "cell_type": "code",
   "execution_count": 22,
   "metadata": {},
   "outputs": [
    {
     "name": "stdout",
     "output_type": "stream",
     "text": [
      "31253.127210855484\n"
     ]
    }
   ],
   "source": [
    "t0 = time.time() \n",
    "ranks = [] \n",
    "for i in range(100): \n",
    "    query = queries[i] \n",
    "    tokenized_query = simple_tok(query) \n",
    "    scores = bm25.get_scores(query) \n",
    "    best_docs = sorted(range(len(scores)), key=lambda j: scores[j], reverse=True) \n",
    "\n",
    "    for j, b in enumerate(best_docs):\n",
    "        if b == 0: \n",
    "            ranks.append(j+1)\n",
    "\n",
    "print(time.time() - t0)"
   ]
  },
  {
   "cell_type": "code",
   "execution_count": 23,
   "metadata": {},
   "outputs": [
    {
     "data": {
      "text/plain": [
       "0.017716843736458866"
      ]
     },
     "execution_count": 23,
     "metadata": {},
     "output_type": "execute_result"
    }
   ],
   "source": [
    "mrr = 0 \n",
    "\n",
    "for r in ranks: \n",
    "    mrr += 1/r \n",
    "    \n",
    "mrr / len(ranks)"
   ]
  },
  {
   "cell_type": "code",
   "execution_count": 24,
   "metadata": {},
   "outputs": [
    {
     "data": {
      "text/plain": [
       "59.36"
      ]
     },
     "execution_count": 24,
     "metadata": {},
     "output_type": "execute_result"
    }
   ],
   "source": [
    "np.mean(ranks)"
   ]
  },
  {
   "cell_type": "code",
   "execution_count": null,
   "metadata": {},
   "outputs": [],
   "source": []
  }
 ],
 "metadata": {
  "kernelspec": {
   "display_name": "Python 3",
   "language": "python",
   "name": "python3"
  },
  "language_info": {
   "codemirror_mode": {
    "name": "ipython",
    "version": 3
   },
   "file_extension": ".py",
   "mimetype": "text/x-python",
   "name": "python",
   "nbconvert_exporter": "python",
   "pygments_lexer": "ipython3",
   "version": "3.6.9"
  }
 },
 "nbformat": 4,
 "nbformat_minor": 4
}
