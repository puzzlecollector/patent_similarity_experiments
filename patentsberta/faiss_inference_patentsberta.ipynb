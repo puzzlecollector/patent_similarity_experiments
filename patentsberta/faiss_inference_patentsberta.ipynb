{
 "cells": [
  {
   "cell_type": "code",
   "execution_count": 112,
   "metadata": {},
   "outputs": [],
   "source": [
    "import numpy as np \n",
    "import pandas as pd \n",
    "from tqdm import tqdm \n",
    "import telegram\n",
    "from transformers import AutoTokenizer, AutoModel\n",
    "from transformers.optimization import get_linear_schedule_with_warmup, AdamW \n",
    "from sentence_transformers import SentenceTransformer, util, InputExample, losses, evaluation\n",
    "from torch.utils.data import DataLoader\n",
    "import torch\n",
    "import torch.nn as nn\n",
    "import pickle\n",
    "import re\n",
    "import os \n",
    "import time \n",
    "import datetime\n",
    "import faiss\n",
    "import pickle "
   ]
  },
  {
   "cell_type": "code",
   "execution_count": 172,
   "metadata": {},
   "outputs": [
    {
     "data": {
      "text/plain": [
       "SentenceTransformer(\n",
       "  (0): Transformer({'max_seq_length': 512, 'do_lower_case': False}) with Transformer model: MPNetModel \n",
       "  (1): Pooling({'word_embedding_dimension': 768, 'pooling_mode_cls_token': True, 'pooling_mode_mean_tokens': False, 'pooling_mode_max_tokens': False, 'pooling_mode_mean_sqrt_len_tokens': False})\n",
       ")"
      ]
     },
     "execution_count": 172,
     "metadata": {},
     "output_type": "execute_result"
    }
   ],
   "source": [
    "test_model = SentenceTransformer(\"PatentSBERTa_900000_finetuned\", device='cuda') \n",
    "test_model "
   ]
  },
  {
   "cell_type": "code",
   "execution_count": 115,
   "metadata": {},
   "outputs": [
    {
     "name": "stderr",
     "output_type": "stream",
     "text": [
      "100%|██████████| 50000/50000 [00:57<00:00, 875.11it/s]\n"
     ]
    }
   ],
   "source": [
    "test_files = os.listdir(\"FGH_claim_triplet_v0.1s/test/\")\n",
    "tel_token = \"5059732158:AAE87TaReNbDKH3_Fy-CAYCUuIO2qiUyK2I\"\n",
    "chat_id = 1720119057 \n",
    "bot = telegram.Bot(token=tel_token)\n",
    "\n",
    "text = \"Creating test triplets...\" \n",
    "bot.sendMessage(chat_id=chat_id, text=text)\n",
    "\n",
    "L = 30 \n",
    "\n",
    "q_test, p_test, n_test = [], [], [] \n",
    "\n",
    "for i in tqdm(range(len(test_files)), position=0, leave=True): \n",
    "    try:\n",
    "        if i % 100000 == 0:\n",
    "            bot.sendMessage(chat_id=chat_id, text=\"currently at iteration {}/{}\".format(i, len(test_files)))\n",
    "    except Exception as e:\n",
    "        print(e)\n",
    "            \n",
    "    file = open(\"FGH_claim_triplet_v0.1s/test/\" + str(test_files[i]), \"r\") \n",
    "    claims = file.readlines() \n",
    "    \n",
    "    query, positive, negative = [], [], []\n",
    "    q, p, n = False, False, False \n",
    "    for j in range(len(claims)):\n",
    "        if q == False:\n",
    "            query.append(claims[j]) \n",
    "        elif p == False:\n",
    "            positive.append(claims[j]) \n",
    "        else:\n",
    "            negative.append(claims[j])\n",
    "        if j < len(claims)-1 and claims[j] == '\\n' and claims[j+1] == '\\n':\n",
    "            if q == False:\n",
    "                q = True\n",
    "            elif p == False:\n",
    "                p = True \n",
    "    \n",
    "    clean_query, clean_positive, clean_negative = [],[],[] \n",
    "    for q in query:\n",
    "        if len(q.strip()) < L: \n",
    "            continue\n",
    "        t = re.sub(r'\\w[.)]\\s*', '', q)\n",
    "        t = re.sub('[^A-Za-z]+',' ',t) \n",
    "        clean_query.append(t.strip()) \n",
    "    q_test.append(' '.join(clean_query)) \n",
    "    \n",
    "    for p in positive:\n",
    "        if len(p.strip()) < L:\n",
    "            continue \n",
    "        t = re.sub(r'\\w[.)]\\s*', '', p)\n",
    "        t = re.sub('[^A-Za-z]+',' ',t) \n",
    "        clean_positive.append(t.strip()) \n",
    "    p_test.append(' '.join(clean_positive))\n",
    "    \n",
    "    for n in negative:\n",
    "        if len(n.strip()) < L:\n",
    "            continue \n",
    "        t = re.sub(r'\\w[.)]\\s*', '', n)\n",
    "        t = re.sub('[^A-Za-z]+',' ',t)\n",
    "        clean_negative.append(t.strip()) \n",
    "    n_test.append(' '.join(clean_negative))"
   ]
  },
  {
   "cell_type": "code",
   "execution_count": 117,
   "metadata": {},
   "outputs": [
    {
     "name": "stderr",
     "output_type": "stream",
     "text": [
      "100%|██████████| 100000/100000 [00:13<00:00, 7374.20it/s]\n"
     ]
    },
    {
     "name": "stdout",
     "output_type": "stream",
     "text": [
      "rank = 1, score = 0.912592351436615\n"
     ]
    }
   ],
   "source": [
    "with open('tabnet_900000_finetuned.pkl', 'rb') as f:\n",
    "    candidate_embeddings = pickle.load(f)\n",
    "idx = 0 \n",
    "q = q_test[idx]\n",
    "q_embedding = test_model.encode(q) \n",
    "ranks = [] \n",
    "for i in tqdm(range(len(candidate_embeddings)),position=0, leave=True):\n",
    "    dist = util.cos_sim(q_embedding, candidate_embeddings[i]) \n",
    "    ranks.append((i, dist)) \n",
    "\n",
    "ranks = sorted(ranks, key=lambda x: x[1], reverse=True)\n",
    "for i in range(len(ranks)):\n",
    "    if ranks[i][0] == idx:\n",
    "        print(\"rank = {}, score = {}\".format(i+1, ranks[i][1].item())) \n",
    "        break "
   ]
  },
  {
   "cell_type": "code",
   "execution_count": 123,
   "metadata": {},
   "outputs": [],
   "source": [
    "with open('tabnet_900000_finetuned.pkl', 'rb') as f:\n",
    "    candidate_embeddings = pickle.load(f)\n",
    "\n",
    "candidate_embeddings = np.array(candidate_embeddings)\n",
    "    \n",
    "index = faiss.IndexIDMap(faiss.IndexFlatIP(768))\n",
    "\n",
    "faiss.normalize_L2(candidate_embeddings) \n",
    "\n",
    "index.train(candidate_embeddings)\n",
    "\n",
    "index.add_with_ids(candidate_embeddings, np.array(range(0, len(candidate_embeddings))))\n",
    "\n",
    "faiss.write_index(index, \"test_index.index\")"
   ]
  },
  {
   "cell_type": "code",
   "execution_count": 181,
   "metadata": {},
   "outputs": [
    {
     "name": "stdout",
     "output_type": "stream",
     "text": [
      "833.6708905696869\n"
     ]
    }
   ],
   "source": [
    "tel_token = \"5059732158:AAE87TaReNbDKH3_Fy-CAYCUuIO2qiUyK2I\"\n",
    "chat_id = 1720119057 \n",
    "bot = telegram.Bot(token=tel_token)\n",
    "\n",
    "t0 = time.time() \n",
    "q = test_model.encode(q_test) \n",
    "\n",
    "faiss.normalize_L2(q)\n",
    "\n",
    "D, I = index.search(q, len(candidate_embeddings))\n",
    "\n",
    "elapsed = time.time() - t0\n",
    "\n",
    "bot.sendMessage(chat_id=chat_id, text=\"Time elapsed: {}s\".format(elapsed))\n",
    "print(elapsed)"
   ]
  },
  {
   "cell_type": "code",
   "execution_count": 184,
   "metadata": {},
   "outputs": [
    {
     "name": "stderr",
     "output_type": "stream",
     "text": [
      "100%|██████████| 50000/50000 [55:21<00:00, 15.05it/s]  \n"
     ]
    }
   ],
   "source": [
    "ranks = [] \n",
    "reciprocal_ranks = [] \n",
    "reciprocal_ranks_100 = [] \n",
    "p5, p10, p50, p100 = [], [], [], [] \n",
    "\n",
    "for idx in tqdm(range(len(D)), position=0, leave=True):\n",
    "    for i in range(len(I[idx])):\n",
    "        if I[idx][i] == idx:\n",
    "            ranks.append(i+1) \n",
    "            reciprocal_ranks.append(1/(i+1)) \n",
    "            if i+1 > 100:\n",
    "                reciprocal_ranks_100.append(0) \n",
    "            else:\n",
    "                reciprocal_ranks_100.append(1/(i+1)) \n",
    "                \n",
    "            if i+1 <= 5:\n",
    "                p5.append(True) \n",
    "            else:\n",
    "                p5.append(False) \n",
    "                \n",
    "            if i+1 <= 10:\n",
    "                p10.append(True)\n",
    "            else:\n",
    "                p10.append(False) \n",
    "            \n",
    "            if i+1 <= 50:\n",
    "                p50.append(True)\n",
    "            else:\n",
    "                p50.append(False) \n",
    "                \n",
    "            if i+1 <= 100:\n",
    "                p100.append(True) \n",
    "            else:\n",
    "                p100.append(False)\n",
    "            "
   ]
  },
  {
   "cell_type": "code",
   "execution_count": 185,
   "metadata": {},
   "outputs": [
    {
     "data": {
      "text/plain": [
       "<telegram.message.Message at 0x31467a88>"
      ]
     },
     "execution_count": 185,
     "metadata": {},
     "output_type": "execute_result"
    }
   ],
   "source": [
    "text = \"MRR : {}\".format(np.mean(reciprocal_ranks)) \n",
    "bot.sendMessage(chat_id=chat_id, text=text) \n",
    "\n",
    "text = \"MRR@100 : {}\".format(np.mean(reciprocal_ranks_100)) \n",
    "bot.sendMessage(chat_id=chat_id, text=text) \n",
    "\n",
    "text = \"Average Rank : {}\".format(np.mean(ranks)) \n",
    "bot.sendMessage(chat_id=chat_id, text=text) \n",
    "\n",
    "cnt = 0\n",
    "for i in range(len(p5)):\n",
    "    if p5[i]==True:\n",
    "        cnt += 1 \n",
    "text = \"p5 : {}\".format(cnt/len(p5))\n",
    "bot.sendMessage(chat_id=chat_id, text=text) \n",
    "\n",
    "\n",
    "cnt = 0\n",
    "for i in range(len(p10)):\n",
    "    if p10[i]==True:\n",
    "        cnt += 1 \n",
    "text = \"p10 : {}\".format(cnt/len(p10))\n",
    "bot.sendMessage(chat_id=chat_id, text=text) \n",
    "\n",
    "\n",
    "cnt = 0\n",
    "for i in range(len(p50)):\n",
    "    if p50[i]==True:\n",
    "        cnt += 1 \n",
    "text = \"p50 : {}\".format(cnt/len(p50))\n",
    "bot.sendMessage(chat_id=chat_id, text=text) \n",
    "\n",
    "\n",
    "cnt = 0\n",
    "for i in range(len(p100)):\n",
    "    if p100[i]==True:\n",
    "        cnt += 1 \n",
    "text = \"p100 : {}\".format(cnt/len(p100))\n",
    "bot.sendMessage(chat_id=chat_id, text=text) \n",
    "\n"
   ]
  },
  {
   "cell_type": "code",
   "execution_count": null,
   "metadata": {},
   "outputs": [],
   "source": []
  },
  {
   "cell_type": "code",
   "execution_count": null,
   "metadata": {},
   "outputs": [],
   "source": []
  },
  {
   "cell_type": "code",
   "execution_count": null,
   "metadata": {},
   "outputs": [],
   "source": []
  },
  {
   "cell_type": "code",
   "execution_count": null,
   "metadata": {},
   "outputs": [],
   "source": []
  },
  {
   "cell_type": "code",
   "execution_count": null,
   "metadata": {},
   "outputs": [],
   "source": []
  }
 ],
 "metadata": {
  "kernelspec": {
   "display_name": "Python 3",
   "language": "python",
   "name": "python3"
  },
  "language_info": {
   "codemirror_mode": {
    "name": "ipython",
    "version": 3
   },
   "file_extension": ".py",
   "mimetype": "text/x-python",
   "name": "python",
   "nbconvert_exporter": "python",
   "pygments_lexer": "ipython3",
   "version": "3.6.9"
  }
 },
 "nbformat": 4,
 "nbformat_minor": 4
}
