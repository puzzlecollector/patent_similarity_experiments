{
 "cells": [
  {
   "cell_type": "code",
   "execution_count": 48,
   "metadata": {},
   "outputs": [],
   "source": [
    "import numpy as np\n",
    "import pandas as pd \n",
    "import random \n",
    "import matplotlib.pyplot as plt\n",
    "from tqdm import tqdm\n",
    "import os \n",
    "import pickle "
   ]
  },
  {
   "cell_type": "markdown",
   "metadata": {},
   "source": [
    "# Form Queries File"
   ]
  },
  {
   "cell_type": "code",
   "execution_count": 12,
   "metadata": {},
   "outputs": [
    {
     "data": {
      "text/html": [
       "<div>\n",
       "<style scoped>\n",
       "    .dataframe tbody tr th:only-of-type {\n",
       "        vertical-align: middle;\n",
       "    }\n",
       "\n",
       "    .dataframe tbody tr th {\n",
       "        vertical-align: top;\n",
       "    }\n",
       "\n",
       "    .dataframe thead th {\n",
       "        text-align: right;\n",
       "    }\n",
       "</style>\n",
       "<table border=\"1\" class=\"dataframe\">\n",
       "  <thead>\n",
       "    <tr style=\"text-align: right;\">\n",
       "      <th></th>\n",
       "      <th>queries</th>\n",
       "      <th>positive</th>\n",
       "      <th>negative</th>\n",
       "    </tr>\n",
       "  </thead>\n",
       "  <tbody>\n",
       "    <tr>\n",
       "      <th>0</th>\n",
       "      <td>A system for charging or maintaining a batter...</td>\n",
       "      <td>A method for battery charger and diagnosis wi...</td>\n",
       "      <td>A ductile failure anchor for a concrete eleme...</td>\n",
       "    </tr>\n",
       "    <tr>\n",
       "      <th>1</th>\n",
       "      <td>A method for calculating a path delay in stat...</td>\n",
       "      <td>A non transitory computer readable medium car...</td>\n",
       "      <td>A distance evaluation method for evaluating d...</td>\n",
       "    </tr>\n",
       "    <tr>\n",
       "      <th>2</th>\n",
       "      <td>A preventive or therapeutic agent for diabete...</td>\n",
       "      <td>A method for measuring glutamyl transpeptidas...</td>\n",
       "      <td>A communication system comprising a plurality...</td>\n",
       "    </tr>\n",
       "  </tbody>\n",
       "</table>\n",
       "</div>"
      ],
      "text/plain": [
       "                                             queries  \\\n",
       "0   A system for charging or maintaining a batter...   \n",
       "1   A method for calculating a path delay in stat...   \n",
       "2   A preventive or therapeutic agent for diabete...   \n",
       "\n",
       "                                            positive  \\\n",
       "0   A method for battery charger and diagnosis wi...   \n",
       "1   A non transitory computer readable medium car...   \n",
       "2   A method for measuring glutamyl transpeptidas...   \n",
       "\n",
       "                                            negative  \n",
       "0   A ductile failure anchor for a concrete eleme...  \n",
       "1   A distance evaluation method for evaluating d...  \n",
       "2   A communication system comprising a plurality...  "
      ]
     },
     "execution_count": 12,
     "metadata": {},
     "output_type": "execute_result"
    }
   ],
   "source": [
    "test_df = pd.read_csv('test_df.tsv', sep='\\t') \n",
    "\n",
    "test_df.head(3)"
   ]
  },
  {
   "cell_type": "code",
   "execution_count": 16,
   "metadata": {},
   "outputs": [],
   "source": [
    "test_queries = test_df['queries'].values \n",
    "ids = np.arange(0, test_queries.shape[0])  "
   ]
  },
  {
   "cell_type": "code",
   "execution_count": 20,
   "metadata": {},
   "outputs": [
    {
     "name": "stderr",
     "output_type": "stream",
     "text": [
      "100%|██████████| 38943/38943 [00:01<00:00, 29371.81it/s]\n"
     ]
    },
    {
     "name": "stdout",
     "output_type": "stream",
     "text": [
      "Creating .tsv file ...\n"
     ]
    }
   ],
   "source": [
    "outputStr = \"ids\" + \"\\t\" + \"queries\" + \"\\n\" \n",
    "\n",
    "for i in tqdm(range(len(test_queries)), position=0, leave=True): \n",
    "    outputStr += str(ids[i]) + \"\\t\" + str(test_queries[i]) + \"\\n\"  \n",
    "    \n",
    "    \n",
    "print(\"Creating .tsv file ...\")\n",
    "with open('test_queries.tsv', 'w') as outputter: \n",
    "    outputter.write(outputStr) "
   ]
  },
  {
   "cell_type": "code",
   "execution_count": 21,
   "metadata": {},
   "outputs": [
    {
     "data": {
      "text/html": [
       "<div>\n",
       "<style scoped>\n",
       "    .dataframe tbody tr th:only-of-type {\n",
       "        vertical-align: middle;\n",
       "    }\n",
       "\n",
       "    .dataframe tbody tr th {\n",
       "        vertical-align: top;\n",
       "    }\n",
       "\n",
       "    .dataframe thead th {\n",
       "        text-align: right;\n",
       "    }\n",
       "</style>\n",
       "<table border=\"1\" class=\"dataframe\">\n",
       "  <thead>\n",
       "    <tr style=\"text-align: right;\">\n",
       "      <th></th>\n",
       "      <th>ids</th>\n",
       "      <th>queries</th>\n",
       "    </tr>\n",
       "  </thead>\n",
       "  <tbody>\n",
       "    <tr>\n",
       "      <th>0</th>\n",
       "      <td>0</td>\n",
       "      <td>A system for charging or maintaining a batter...</td>\n",
       "    </tr>\n",
       "    <tr>\n",
       "      <th>1</th>\n",
       "      <td>1</td>\n",
       "      <td>A method for calculating a path delay in stat...</td>\n",
       "    </tr>\n",
       "    <tr>\n",
       "      <th>2</th>\n",
       "      <td>2</td>\n",
       "      <td>A preventive or therapeutic agent for diabete...</td>\n",
       "    </tr>\n",
       "    <tr>\n",
       "      <th>3</th>\n",
       "      <td>3</td>\n",
       "      <td>A semiconductor device comprising a first sem...</td>\n",
       "    </tr>\n",
       "    <tr>\n",
       "      <th>4</th>\n",
       "      <td>4</td>\n",
       "      <td>A moveable barrier operator system comprising...</td>\n",
       "    </tr>\n",
       "  </tbody>\n",
       "</table>\n",
       "</div>"
      ],
      "text/plain": [
       "   ids                                            queries\n",
       "0    0   A system for charging or maintaining a batter...\n",
       "1    1   A method for calculating a path delay in stat...\n",
       "2    2   A preventive or therapeutic agent for diabete...\n",
       "3    3   A semiconductor device comprising a first sem...\n",
       "4    4   A moveable barrier operator system comprising..."
      ]
     },
     "execution_count": 21,
     "metadata": {},
     "output_type": "execute_result"
    }
   ],
   "source": [
    "test_queries = pd.read_csv(\"test_queries.tsv\", sep='\\t') \n",
    "\n",
    "test_queries.head()"
   ]
  },
  {
   "cell_type": "markdown",
   "metadata": {},
   "source": [
    "# Form Collections File \n",
    "\n",
    "\n",
    "The ids of the positive texts have to be matched with the corresponding query text. \n",
    "\n",
    "In some cases, there appears to be more than one positive text for a single query. "
   ]
  },
  {
   "cell_type": "code",
   "execution_count": 34,
   "metadata": {},
   "outputs": [
    {
     "data": {
      "text/plain": [
       "((38943,), (38943,), (38943,))"
      ]
     },
     "execution_count": 34,
     "metadata": {},
     "output_type": "execute_result"
    }
   ],
   "source": [
    "positives = test_df['positive'].values \n",
    "\n",
    "negatives = test_df['negative'].values \n",
    "\n",
    "queries = test_queries['queries'].values \n",
    "\n",
    "positives.shape, negatives.shape, queries.shape"
   ]
  },
  {
   "cell_type": "code",
   "execution_count": 36,
   "metadata": {},
   "outputs": [],
   "source": [
    "query_positive_dict = {} \n",
    "\n",
    "for i in range(queries.shape[0]): \n",
    "    query_positive_dict[queries[i]] = []  \n",
    "    \n",
    "    \n",
    "for i in range(queries.shape[0]):  \n",
    "    query_positive_dict[queries[i]].append(i)"
   ]
  },
  {
   "cell_type": "code",
   "execution_count": 40,
   "metadata": {},
   "outputs": [
    {
     "data": {
      "text/plain": [
       "((77886,), (77886,))"
      ]
     },
     "execution_count": 40,
     "metadata": {},
     "output_type": "execute_result"
    }
   ],
   "source": [
    "collection = np.concatenate([positives, negatives]) \n",
    "collection_ids = np.arange(0, collection.shape[0])\n",
    "\n",
    "collection.shape, collection_ids.shape"
   ]
  },
  {
   "cell_type": "code",
   "execution_count": 43,
   "metadata": {},
   "outputs": [
    {
     "name": "stderr",
     "output_type": "stream",
     "text": [
      "100%|██████████| 77886/77886 [00:01<00:00, 51424.26it/s]\n"
     ]
    },
    {
     "name": "stdout",
     "output_type": "stream",
     "text": [
      "Creating .tsv file ...\n"
     ]
    }
   ],
   "source": [
    "outputStr = \"ids\" + \"\\t\" + \"passages\" + \"\\n\" \n",
    "\n",
    "for i in tqdm(range(len(collection)), position=0, leave=True): \n",
    "    outputStr += str(collection_ids[i]) + \"\\t\" + str(collection[i]) + \"\\n\"  \n",
    "    \n",
    "    \n",
    "print(\"Creating .tsv file ...\")\n",
    "with open('test_collections.tsv', 'w') as outputter: \n",
    "    outputter.write(outputStr) "
   ]
  },
  {
   "cell_type": "code",
   "execution_count": 44,
   "metadata": {},
   "outputs": [
    {
     "data": {
      "text/html": [
       "<div>\n",
       "<style scoped>\n",
       "    .dataframe tbody tr th:only-of-type {\n",
       "        vertical-align: middle;\n",
       "    }\n",
       "\n",
       "    .dataframe tbody tr th {\n",
       "        vertical-align: top;\n",
       "    }\n",
       "\n",
       "    .dataframe thead th {\n",
       "        text-align: right;\n",
       "    }\n",
       "</style>\n",
       "<table border=\"1\" class=\"dataframe\">\n",
       "  <thead>\n",
       "    <tr style=\"text-align: right;\">\n",
       "      <th></th>\n",
       "      <th>ids</th>\n",
       "      <th>passages</th>\n",
       "    </tr>\n",
       "  </thead>\n",
       "  <tbody>\n",
       "    <tr>\n",
       "      <th>0</th>\n",
       "      <td>0</td>\n",
       "      <td>A method for battery charger and diagnosis wi...</td>\n",
       "    </tr>\n",
       "    <tr>\n",
       "      <th>1</th>\n",
       "      <td>1</td>\n",
       "      <td>A non transitory computer readable medium car...</td>\n",
       "    </tr>\n",
       "    <tr>\n",
       "      <th>2</th>\n",
       "      <td>2</td>\n",
       "      <td>A method for measuring glutamyl transpeptidas...</td>\n",
       "    </tr>\n",
       "    <tr>\n",
       "      <th>3</th>\n",
       "      <td>3</td>\n",
       "      <td>An integrated circuit comprising a first pitc...</td>\n",
       "    </tr>\n",
       "    <tr>\n",
       "      <th>4</th>\n",
       "      <td>4</td>\n",
       "      <td>A movable barrier operator having automatic f...</td>\n",
       "    </tr>\n",
       "  </tbody>\n",
       "</table>\n",
       "</div>"
      ],
      "text/plain": [
       "   ids                                           passages\n",
       "0    0   A method for battery charger and diagnosis wi...\n",
       "1    1   A non transitory computer readable medium car...\n",
       "2    2   A method for measuring glutamyl transpeptidas...\n",
       "3    3   An integrated circuit comprising a first pitc...\n",
       "4    4   A movable barrier operator having automatic f..."
      ]
     },
     "execution_count": 44,
     "metadata": {},
     "output_type": "execute_result"
    }
   ],
   "source": [
    "test_collections = pd.read_csv(\"test_collections.tsv\", sep=\"\\t\") \n",
    "\n",
    "test_collections.head() "
   ]
  },
  {
   "cell_type": "code",
   "execution_count": 50,
   "metadata": {},
   "outputs": [],
   "source": [
    "## save dictionary \n",
    "\n",
    "with open('query_positive_dict.pkl', 'wb') as f:\n",
    "    pickle.dump(query_positive_dict, f)\n",
    "        "
   ]
  },
  {
   "cell_type": "code",
   "execution_count": null,
   "metadata": {},
   "outputs": [],
   "source": []
  }
 ],
 "metadata": {
  "kernelspec": {
   "display_name": "Python 3",
   "language": "python",
   "name": "python3"
  },
  "language_info": {
   "codemirror_mode": {
    "name": "ipython",
    "version": 3
   },
   "file_extension": ".py",
   "mimetype": "text/x-python",
   "name": "python",
   "nbconvert_exporter": "python",
   "pygments_lexer": "ipython3",
   "version": "3.6.10"
  }
 },
 "nbformat": 4,
 "nbformat_minor": 4
}
