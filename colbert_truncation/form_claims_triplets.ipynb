{
 "cells": [
  {
   "cell_type": "code",
   "execution_count": 48,
   "metadata": {},
   "outputs": [],
   "source": [
    "import numpy as np \n",
    "import pandas as pd \n",
    "import time \n",
    "import datetime \n",
    "from tqdm import tqdm \n",
    "import re \n",
    "import math \n",
    "import os \n",
    "import json \n",
    "import seaborn as sns \n",
    "import matplotlib.pyplot as plt \n",
    "from sklearn.model_selection import train_test_split \n",
    "import nltk"
   ]
  },
  {
   "cell_type": "markdown",
   "metadata": {},
   "source": [
    "# Read Data"
   ]
  },
  {
   "cell_type": "code",
   "execution_count": 87,
   "metadata": {},
   "outputs": [
    {
     "name": "stderr",
     "output_type": "stream",
     "text": [
      "100%|██████████| 260534/260534 [00:27<00:00, 9317.30it/s] "
     ]
    },
    {
     "name": "stdout",
     "output_type": "stream",
     "text": [
      "could not process 57 / 260534 positive sample files\n"
     ]
    },
    {
     "name": "stderr",
     "output_type": "stream",
     "text": [
      "\n"
     ]
    }
   ],
   "source": [
    "positives = os.listdir('./positive_samples/')\n",
    "cnt = 0\n",
    "positive_data = [] \n",
    "for i in tqdm(range(len(positives)), position=0, leave=True): \n",
    "    filename = './positive_samples/' + positives[i] \n",
    "    try:  \n",
    "        with open(filename) as f: \n",
    "            data = json.load(f)\n",
    "            positive_data.append(data)\n",
    "    except Exception as e: \n",
    "        cnt += 1\n",
    "\n",
    "print(\"could not process {} / {} positive sample files\".format(cnt, len(positives))) "
   ]
  },
  {
   "cell_type": "code",
   "execution_count": 77,
   "metadata": {},
   "outputs": [
    {
     "name": "stderr",
     "output_type": "stream",
     "text": [
      "100%|██████████| 260411/260411 [00:35<00:00, 7367.45it/s]"
     ]
    },
    {
     "name": "stdout",
     "output_type": "stream",
     "text": [
      "could not process 0 / 260411 negative sample files\n"
     ]
    },
    {
     "name": "stderr",
     "output_type": "stream",
     "text": [
      "\n"
     ]
    }
   ],
   "source": [
    "negatives = os.listdir('./negative_samples/') \n",
    "cnt = 0 \n",
    "negative_data = [] \n",
    "for i in tqdm(range(len(negatives)), position=0, leave=True): \n",
    "    filename = './negative_samples/' + negatives[i] \n",
    "    try: \n",
    "        with open(filename) as f: \n",
    "            data = json.load(f) \n",
    "            negative_data.append(data)\n",
    "    except Exception as e: \n",
    "        cnt += 1 \n",
    "\n",
    "print(\"could not process {} / {} negative sample files\".format(cnt, len(negatives))) "
   ]
  },
  {
   "cell_type": "code",
   "execution_count": 82,
   "metadata": {},
   "outputs": [
    {
     "name": "stdout",
     "output_type": "stream",
     "text": [
      "Creating ID-INDEX dictionary ...\n"
     ]
    },
    {
     "name": "stderr",
     "output_type": "stream",
     "text": [
      "100%|██████████| 260411/260411 [00:00<00:00, 952586.98it/s] \n"
     ]
    },
    {
     "name": "stdout",
     "output_type": "stream",
     "text": [
      "Filling up ID-INDEX dictionary ...\n"
     ]
    },
    {
     "name": "stderr",
     "output_type": "stream",
     "text": [
      "100%|██████████| 260411/260411 [00:00<00:00, 969025.49it/s]\n"
     ]
    }
   ],
   "source": [
    "'''\n",
    "negative_ids map contains the index in the negative_data array that matches the id of the positive sample \n",
    "'''\n",
    "\n",
    "negative_ids = {} \n",
    "\n",
    "print(\"Creating ID-INDEX dictionary ...\")\n",
    "\n",
    "for i in tqdm(range(len(negative_data)), position=0, leave=True): \n",
    "    cur_id = negative_data[i]['patent1id']\n",
    "    negative_ids[cur_id] = [] \n",
    "\n",
    "print(\"Filling up ID-INDEX dictionary ...\")\n",
    "for i in tqdm(range(len(negative_data)), position=0, leave=True): \n",
    "    cur_id = negative_data[i]['patent1id'] \n",
    "    negative_ids[cur_id].append(i) \n",
    "    "
   ]
  },
  {
   "cell_type": "code",
   "execution_count": 86,
   "metadata": {},
   "outputs": [
    {
     "name": "stdout",
     "output_type": "stream",
     "text": [
      "max occurrence = 15\n"
     ]
    }
   ],
   "source": [
    "occurrence = [] \n",
    "\n",
    "for k,v in zip(negative_ids.keys(), negative_ids.values()): \n",
    "    occurrence.append(len(v)) \n",
    "    \n",
    "print(\"max occurrence = {}\".format(np.max(occurrence)))"
   ]
  },
  {
   "cell_type": "markdown",
   "metadata": {},
   "source": [
    "# Collect Triplets"
   ]
  },
  {
   "cell_type": "code",
   "execution_count": 95,
   "metadata": {},
   "outputs": [],
   "source": [
    "def preprocess(s): \n",
    "    s = ' '.join(s)\n",
    "    cleaned = re.sub('[^A-Za-z]+', ' ', s) \n",
    "    return cleaned"
   ]
  },
  {
   "cell_type": "code",
   "execution_count": 99,
   "metadata": {},
   "outputs": [
    {
     "name": "stderr",
     "output_type": "stream",
     "text": [
      "100%|██████████| 260477/260477 [10:05<00:00, 430.47it/s]\n"
     ]
    }
   ],
   "source": [
    "q_list, p_list, n_list = [], [], [] # queries, positives, negatives  \n",
    "\n",
    "for i in tqdm(range(len(positive_data)), position=0, leave=True): \n",
    "    cur_id = positive_data[i]['patent1id'] \n",
    "    if cur_id not in negative_ids.keys(): \n",
    "        continue \n",
    "    matching_idxs = negative_ids[cur_id]  \n",
    "    for j in matching_idxs: \n",
    "        q_list.append(preprocess(positive_data[i]['patent1claims']))  \n",
    "        p_list.append(preprocess(positive_data[i]['patent2claims']))  \n",
    "        n_list.append(preprocess(negative_data[j]['patent2claims']))  "
   ]
  },
  {
   "cell_type": "code",
   "execution_count": 109,
   "metadata": {},
   "outputs": [
    {
     "name": "stderr",
     "output_type": "stream",
     "text": [
      "100%|██████████| 390584/390584 [03:17<00:00, 1974.74it/s] \n"
     ]
    }
   ],
   "source": [
    "outputStr = \"queries\" + \"\\t\" + \"positive\" + \"\\t\" + \"negative\" + \"\\n\" \n",
    "\n",
    "for i in tqdm(range(len(q_list)), position=0, leave=True): \n",
    "    outputStr += str(q_list[i]) + \"\\t\" + str(p_list[i]) + \"\\t\" + str(n_list[i]) + \"\\n\" \n"
   ]
  },
  {
   "cell_type": "code",
   "execution_count": 110,
   "metadata": {},
   "outputs": [
    {
     "name": "stdout",
     "output_type": "stream",
     "text": [
      "Creating .tsv file ...\n"
     ]
    }
   ],
   "source": [
    "print(\"Creating .tsv file ...\")\n",
    "with open('train.tsv', 'w') as outputter: \n",
    "    outputter.write(outputStr)"
   ]
  },
  {
   "cell_type": "code",
   "execution_count": 112,
   "metadata": {},
   "outputs": [
    {
     "data": {
      "text/html": [
       "<div>\n",
       "<style scoped>\n",
       "    .dataframe tbody tr th:only-of-type {\n",
       "        vertical-align: middle;\n",
       "    }\n",
       "\n",
       "    .dataframe tbody tr th {\n",
       "        vertical-align: top;\n",
       "    }\n",
       "\n",
       "    .dataframe thead th {\n",
       "        text-align: right;\n",
       "    }\n",
       "</style>\n",
       "<table border=\"1\" class=\"dataframe\">\n",
       "  <thead>\n",
       "    <tr style=\"text-align: right;\">\n",
       "      <th></th>\n",
       "      <th>queries</th>\n",
       "      <th>positive</th>\n",
       "      <th>negative</th>\n",
       "    </tr>\n",
       "  </thead>\n",
       "  <tbody>\n",
       "    <tr>\n",
       "      <th>0</th>\n",
       "      <td>A contact data sharing method comprising runn...</td>\n",
       "      <td>A method comprising maintaining a passive per...</td>\n",
       "      <td>A method for wireless collaboration the metho...</td>\n",
       "    </tr>\n",
       "    <tr>\n",
       "      <th>1</th>\n",
       "      <td>A video recording apparatus for a vehicle com...</td>\n",
       "      <td>A monitoring device that outputs a movement o...</td>\n",
       "      <td>A modular self supporting mounting system for...</td>\n",
       "    </tr>\n",
       "    <tr>\n",
       "      <th>2</th>\n",
       "      <td>An implantable medical device comprising at l...</td>\n",
       "      <td>A composition comprising a plurality of heter...</td>\n",
       "      <td>A digital IF demodulator including an analog ...</td>\n",
       "    </tr>\n",
       "    <tr>\n",
       "      <th>3</th>\n",
       "      <td>A multi mode surgical tool comprising an elec...</td>\n",
       "      <td>A self regulating heating device having a fer...</td>\n",
       "      <td>An apparatus for restraining the movement of ...</td>\n",
       "    </tr>\n",
       "    <tr>\n",
       "      <th>4</th>\n",
       "      <td>A multi mode surgical tool comprising an elec...</td>\n",
       "      <td>A self regulating heating device having a fer...</td>\n",
       "      <td>A system for enriching a document comprising ...</td>\n",
       "    </tr>\n",
       "    <tr>\n",
       "      <th>5</th>\n",
       "      <td>A semiconductor structure with a high voltage...</td>\n",
       "      <td>A semiconductor device comprising a substrate...</td>\n",
       "      <td>A flat panel display device comprising a film...</td>\n",
       "    </tr>\n",
       "    <tr>\n",
       "      <th>6</th>\n",
       "      <td>Deployment system for an implantable medical ...</td>\n",
       "      <td>A deployment system for a self expanding sten...</td>\n",
       "      <td>A method implemented in a wireless transmit r...</td>\n",
       "    </tr>\n",
       "    <tr>\n",
       "      <th>7</th>\n",
       "      <td>Deployment system for an implantable medical ...</td>\n",
       "      <td>A deployment system for a self expanding sten...</td>\n",
       "      <td>A method of distributing light in more than o...</td>\n",
       "    </tr>\n",
       "    <tr>\n",
       "      <th>8</th>\n",
       "      <td>A method comprising obtaining motive outputs ...</td>\n",
       "      <td>A method for powering a powered system having...</td>\n",
       "      <td>A driving method of a semiconductor device th...</td>\n",
       "    </tr>\n",
       "    <tr>\n",
       "      <th>9</th>\n",
       "      <td>A near eye device comprising a spatial light ...</td>\n",
       "      <td>Holographic display device comprising a first...</td>\n",
       "      <td>A sealed compressor assembly comprising a com...</td>\n",
       "    </tr>\n",
       "  </tbody>\n",
       "</table>\n",
       "</div>"
      ],
      "text/plain": [
       "                                             queries  \\\n",
       "0   A contact data sharing method comprising runn...   \n",
       "1   A video recording apparatus for a vehicle com...   \n",
       "2   An implantable medical device comprising at l...   \n",
       "3   A multi mode surgical tool comprising an elec...   \n",
       "4   A multi mode surgical tool comprising an elec...   \n",
       "5   A semiconductor structure with a high voltage...   \n",
       "6   Deployment system for an implantable medical ...   \n",
       "7   Deployment system for an implantable medical ...   \n",
       "8   A method comprising obtaining motive outputs ...   \n",
       "9   A near eye device comprising a spatial light ...   \n",
       "\n",
       "                                            positive  \\\n",
       "0   A method comprising maintaining a passive per...   \n",
       "1   A monitoring device that outputs a movement o...   \n",
       "2   A composition comprising a plurality of heter...   \n",
       "3   A self regulating heating device having a fer...   \n",
       "4   A self regulating heating device having a fer...   \n",
       "5   A semiconductor device comprising a substrate...   \n",
       "6   A deployment system for a self expanding sten...   \n",
       "7   A deployment system for a self expanding sten...   \n",
       "8   A method for powering a powered system having...   \n",
       "9   Holographic display device comprising a first...   \n",
       "\n",
       "                                            negative  \n",
       "0   A method for wireless collaboration the metho...  \n",
       "1   A modular self supporting mounting system for...  \n",
       "2   A digital IF demodulator including an analog ...  \n",
       "3   An apparatus for restraining the movement of ...  \n",
       "4   A system for enriching a document comprising ...  \n",
       "5   A flat panel display device comprising a film...  \n",
       "6   A method implemented in a wireless transmit r...  \n",
       "7   A method of distributing light in more than o...  \n",
       "8   A driving method of a semiconductor device th...  \n",
       "9   A sealed compressor assembly comprising a com...  "
      ]
     },
     "execution_count": 112,
     "metadata": {},
     "output_type": "execute_result"
    }
   ],
   "source": [
    "train = pd.read_csv(\"train.tsv\", sep='\\t') \n",
    "\n",
    "train.head(10)"
   ]
  },
  {
   "cell_type": "markdown",
   "metadata": {},
   "source": [
    "# Train/Val/Test Split"
   ]
  },
  {
   "cell_type": "code",
   "execution_count": 116,
   "metadata": {},
   "outputs": [],
   "source": [
    "train_df, test_df = train_test_split(train, test_size = 0.2, random_state = 777) "
   ]
  },
  {
   "cell_type": "code",
   "execution_count": 118,
   "metadata": {},
   "outputs": [],
   "source": [
    "val_df, test_df = train_test_split(test_df, test_size = 0.5, random_state = 888)"
   ]
  },
  {
   "cell_type": "code",
   "execution_count": 123,
   "metadata": {},
   "outputs": [
    {
     "data": {
      "text/plain": [
       "((312467, 3), (39058, 3), (39059, 3))"
      ]
     },
     "execution_count": 123,
     "metadata": {},
     "output_type": "execute_result"
    }
   ],
   "source": [
    "assert train_df.shape[0] + val_df.shape[0] + test_df.shape[0] == train.shape[0]\n",
    "\n",
    "train_df.shape, val_df.shape, test_df.shape "
   ]
  },
  {
   "cell_type": "code",
   "execution_count": 126,
   "metadata": {},
   "outputs": [
    {
     "data": {
      "text/plain": [
       "((311459, 3), (38940, 3), (38943, 3))"
      ]
     },
     "execution_count": 126,
     "metadata": {},
     "output_type": "execute_result"
    }
   ],
   "source": [
    "# drop NaN rows \n",
    "train_df = train_df.dropna() \n",
    "val_df = val_df.dropna() \n",
    "test_df = test_df.dropna() \n",
    "\n",
    "\n",
    "train_df.shape, val_df.shape, test_df.shape"
   ]
  },
  {
   "cell_type": "code",
   "execution_count": 137,
   "metadata": {},
   "outputs": [],
   "source": [
    "train_df.to_csv(\"train_df.tsv\", sep=\"\\t\", index=False) "
   ]
  },
  {
   "cell_type": "code",
   "execution_count": 138,
   "metadata": {},
   "outputs": [],
   "source": [
    "val_df.to_csv(\"val_df.tsv\", sep=\"\\t\", index=False) "
   ]
  },
  {
   "cell_type": "code",
   "execution_count": 139,
   "metadata": {},
   "outputs": [],
   "source": [
    "test_df.to_csv(\"test_df.tsv\", sep=\"\\t\", index=False) "
   ]
  },
  {
   "cell_type": "code",
   "execution_count": null,
   "metadata": {},
   "outputs": [],
   "source": []
  },
  {
   "cell_type": "code",
   "execution_count": null,
   "metadata": {},
   "outputs": [],
   "source": []
  }
 ],
 "metadata": {
  "kernelspec": {
   "display_name": "Python 3",
   "language": "python",
   "name": "python3"
  },
  "language_info": {
   "codemirror_mode": {
    "name": "ipython",
    "version": 3
   },
   "file_extension": ".py",
   "mimetype": "text/x-python",
   "name": "python",
   "nbconvert_exporter": "python",
   "pygments_lexer": "ipython3",
   "version": "3.6.10"
  }
 },
 "nbformat": 4,
 "nbformat_minor": 4
}
